{
 "cells": [
  {
   "cell_type": "code",
   "execution_count": 22,
   "id": "a4814e25-a5bc-4d6a-80ec-5c5bd861b94a",
   "metadata": {},
   "outputs": [
    {
     "name": "stdout",
     "output_type": "stream",
     "text": [
      "Defaulting to user installation because normal site-packages is not writeable\n",
      "Collecting git+https://github.com/JustAnotherArchivist/snscrape.git\n",
      "  Cloning https://github.com/JustAnotherArchivist/snscrape.git to /private/var/folders/11/p5g8ywbn75z7gllbvqjvfhb80000gn/T/pip-req-build-qbucqbnt\n",
      "  Running command git clone --filter=blob:none --quiet https://github.com/JustAnotherArchivist/snscrape.git /private/var/folders/11/p5g8ywbn75z7gllbvqjvfhb80000gn/T/pip-req-build-qbucqbnt\n",
      "  Resolved https://github.com/JustAnotherArchivist/snscrape.git to commit cbdaee6864aa8d3e9e4326d4fe224a517aabbc2c\n",
      "  Preparing metadata (setup.py) ... \u001b[?25ldone\n",
      "\u001b[?25hRequirement already satisfied: requests[socks] in /Users/elenado/Library/Python/3.9/lib/python/site-packages (from snscrape==0.4.3.20220107.dev73+gcbdaee6) (2.27.1)\n",
      "Requirement already satisfied: lxml in /Users/elenado/Library/Python/3.9/lib/python/site-packages (from snscrape==0.4.3.20220107.dev73+gcbdaee6) (4.9.2)\n",
      "Requirement already satisfied: beautifulsoup4 in /Users/elenado/Library/Python/3.9/lib/python/site-packages (from snscrape==0.4.3.20220107.dev73+gcbdaee6) (4.11.1)\n",
      "Requirement already satisfied: filelock in /Users/elenado/Library/Python/3.9/lib/python/site-packages (from snscrape==0.4.3.20220107.dev73+gcbdaee6) (3.4.2)\n",
      "Requirement already satisfied: soupsieve>1.2 in /Users/elenado/Library/Python/3.9/lib/python/site-packages (from beautifulsoup4->snscrape==0.4.3.20220107.dev73+gcbdaee6) (2.3.2.post1)\n",
      "Requirement already satisfied: urllib3<1.27,>=1.21.1 in /Users/elenado/Library/Python/3.9/lib/python/site-packages (from requests[socks]->snscrape==0.4.3.20220107.dev73+gcbdaee6) (1.26.8)\n",
      "Requirement already satisfied: charset-normalizer~=2.0.0 in /Users/elenado/Library/Python/3.9/lib/python/site-packages (from requests[socks]->snscrape==0.4.3.20220107.dev73+gcbdaee6) (2.0.10)\n",
      "Requirement already satisfied: certifi>=2017.4.17 in /Library/Frameworks/Python.framework/Versions/3.9/lib/python3.9/site-packages (from requests[socks]->snscrape==0.4.3.20220107.dev73+gcbdaee6) (2020.12.5)\n",
      "Requirement already satisfied: idna<4,>=2.5 in /Users/elenado/Library/Python/3.9/lib/python/site-packages (from requests[socks]->snscrape==0.4.3.20220107.dev73+gcbdaee6) (3.3)\n",
      "Requirement already satisfied: PySocks!=1.5.7,>=1.5.6 in /Users/elenado/Library/Python/3.9/lib/python/site-packages (from requests[socks]->snscrape==0.4.3.20220107.dev73+gcbdaee6) (1.7.1)\n",
      "Defaulting to user installation because normal site-packages is not writeable\n",
      "Requirement already satisfied: pandas in /Users/elenado/Library/Python/3.9/lib/python/site-packages (1.5.2)\n",
      "Requirement already satisfied: python-dateutil>=2.8.1 in /Users/elenado/Library/Python/3.9/lib/python/site-packages (from pandas) (2.8.2)\n",
      "Requirement already satisfied: pytz>=2020.1 in /Users/elenado/Library/Python/3.9/lib/python/site-packages (from pandas) (2021.3)\n",
      "Requirement already satisfied: numpy>=1.20.3 in /Users/elenado/Library/Python/3.9/lib/python/site-packages (from pandas) (1.22.1)\n",
      "Requirement already satisfied: six>=1.5 in /Users/elenado/Library/Python/3.9/lib/python/site-packages (from python-dateutil>=2.8.1->pandas) (1.16.0)\n",
      "Defaulting to user installation because normal site-packages is not writeable\n",
      "Requirement already satisfied: numpy in /Users/elenado/Library/Python/3.9/lib/python/site-packages (1.22.1)\n",
      "Defaulting to user installation because normal site-packages is not writeable\n",
      "Requirement already satisfied: matplotlib in /Users/elenado/Library/Python/3.9/lib/python/site-packages (3.6.2)\n",
      "Requirement already satisfied: kiwisolver>=1.0.1 in /Users/elenado/Library/Python/3.9/lib/python/site-packages (from matplotlib) (1.4.4)\n",
      "Requirement already satisfied: python-dateutil>=2.7 in /Users/elenado/Library/Python/3.9/lib/python/site-packages (from matplotlib) (2.8.2)\n",
      "Requirement already satisfied: fonttools>=4.22.0 in /Users/elenado/Library/Python/3.9/lib/python/site-packages (from matplotlib) (4.38.0)\n",
      "Requirement already satisfied: contourpy>=1.0.1 in /Users/elenado/Library/Python/3.9/lib/python/site-packages (from matplotlib) (1.0.6)\n",
      "Requirement already satisfied: cycler>=0.10 in /Users/elenado/Library/Python/3.9/lib/python/site-packages (from matplotlib) (0.11.0)\n",
      "Requirement already satisfied: pyparsing>=2.2.1 in /Users/elenado/Library/Python/3.9/lib/python/site-packages (from matplotlib) (3.0.6)\n",
      "Requirement already satisfied: packaging>=20.0 in /Users/elenado/Library/Python/3.9/lib/python/site-packages (from matplotlib) (21.3)\n",
      "Requirement already satisfied: numpy>=1.19 in /Users/elenado/Library/Python/3.9/lib/python/site-packages (from matplotlib) (1.22.1)\n",
      "Requirement already satisfied: pillow>=6.2.0 in /Users/elenado/Library/Python/3.9/lib/python/site-packages (from matplotlib) (9.0.0)\n",
      "Requirement already satisfied: six>=1.5 in /Users/elenado/Library/Python/3.9/lib/python/site-packages (from python-dateutil>=2.7->matplotlib) (1.16.0)\n",
      "Defaulting to user installation because normal site-packages is not writeable\n",
      "Requirement already satisfied: seaborn in /Users/elenado/Library/Python/3.9/lib/python/site-packages (0.12.1)\n",
      "Requirement already satisfied: pandas>=0.25 in /Users/elenado/Library/Python/3.9/lib/python/site-packages (from seaborn) (1.5.2)\n",
      "Requirement already satisfied: numpy>=1.17 in /Users/elenado/Library/Python/3.9/lib/python/site-packages (from seaborn) (1.22.1)\n",
      "Requirement already satisfied: matplotlib!=3.6.1,>=3.1 in /Users/elenado/Library/Python/3.9/lib/python/site-packages (from seaborn) (3.6.2)\n",
      "Requirement already satisfied: pyparsing>=2.2.1 in /Users/elenado/Library/Python/3.9/lib/python/site-packages (from matplotlib!=3.6.1,>=3.1->seaborn) (3.0.6)\n",
      "Requirement already satisfied: contourpy>=1.0.1 in /Users/elenado/Library/Python/3.9/lib/python/site-packages (from matplotlib!=3.6.1,>=3.1->seaborn) (1.0.6)\n",
      "Requirement already satisfied: kiwisolver>=1.0.1 in /Users/elenado/Library/Python/3.9/lib/python/site-packages (from matplotlib!=3.6.1,>=3.1->seaborn) (1.4.4)\n",
      "Requirement already satisfied: python-dateutil>=2.7 in /Users/elenado/Library/Python/3.9/lib/python/site-packages (from matplotlib!=3.6.1,>=3.1->seaborn) (2.8.2)\n",
      "Requirement already satisfied: packaging>=20.0 in /Users/elenado/Library/Python/3.9/lib/python/site-packages (from matplotlib!=3.6.1,>=3.1->seaborn) (21.3)\n",
      "Requirement already satisfied: cycler>=0.10 in /Users/elenado/Library/Python/3.9/lib/python/site-packages (from matplotlib!=3.6.1,>=3.1->seaborn) (0.11.0)\n",
      "Requirement already satisfied: fonttools>=4.22.0 in /Users/elenado/Library/Python/3.9/lib/python/site-packages (from matplotlib!=3.6.1,>=3.1->seaborn) (4.38.0)\n",
      "Requirement already satisfied: pillow>=6.2.0 in /Users/elenado/Library/Python/3.9/lib/python/site-packages (from matplotlib!=3.6.1,>=3.1->seaborn) (9.0.0)\n",
      "Requirement already satisfied: pytz>=2020.1 in /Users/elenado/Library/Python/3.9/lib/python/site-packages (from pandas>=0.25->seaborn) (2021.3)\n",
      "Requirement already satisfied: six>=1.5 in /Users/elenado/Library/Python/3.9/lib/python/site-packages (from python-dateutil>=2.7->matplotlib!=3.6.1,>=3.1->seaborn) (1.16.0)\n",
      "Defaulting to user installation because normal site-packages is not writeable\n",
      "Requirement already satisfied: langdetect in /Users/elenado/Library/Python/3.9/lib/python/site-packages (1.0.9)\n",
      "Requirement already satisfied: six in /Users/elenado/Library/Python/3.9/lib/python/site-packages (from langdetect) (1.16.0)\n",
      "Defaulting to user installation because normal site-packages is not writeable\n",
      "Requirement already satisfied: nltk in /Users/elenado/Library/Python/3.9/lib/python/site-packages (3.7)\n",
      "Requirement already satisfied: joblib in /Users/elenado/Library/Python/3.9/lib/python/site-packages (from nltk) (1.2.0)\n",
      "Requirement already satisfied: regex>=2021.8.3 in /Users/elenado/Library/Python/3.9/lib/python/site-packages (from nltk) (2022.10.31)\n",
      "Requirement already satisfied: click in /Users/elenado/Library/Python/3.9/lib/python/site-packages (from nltk) (8.0.3)\n",
      "Requirement already satisfied: tqdm in /Users/elenado/Library/Python/3.9/lib/python/site-packages (from nltk) (4.62.3)\n",
      "Defaulting to user installation because normal site-packages is not writeable\n",
      "Requirement already satisfied: regex in /Users/elenado/Library/Python/3.9/lib/python/site-packages (2022.10.31)\n"
     ]
    }
   ],
   "source": [
    "!pip3 install git+https://github.com/JustAnotherArchivist/snscrape.git\n",
    "!pip3 install pandas\n",
    "!pip3 install numpy\n",
    "!pip3 install matplotlib\n",
    "!pip3 install seaborn\n",
    "!pip3 install langdetect\n",
    "!pip3 install nltk\n",
    "!pip3 install regex"
   ]
  },
  {
   "cell_type": "code",
   "execution_count": 1,
   "id": "467377ad-df07-488b-a9ae-f49a11d52405",
   "metadata": {},
   "outputs": [],
   "source": [
    "#importing modules\n",
    "import snscrape.modules.twitter as sntwitter\n",
    "import pandas as pd\n",
    "import numpy as np\n",
    "import matplotlib.pyplot as plt\n",
    "import seaborn as sns\n",
    "import regex as re\n",
    "import os\n",
    "\n",
    "from langdetect import detect_langs\n",
    "from nltk.tokenize import word_tokenize\n",
    "from nltk.sentiment.vader import SentimentIntensityAnalyzer\n",
    "import nltk\n",
    "nltk.download('punkt')\n",
    "nltk.download('vader_lexicon')"
   ]
  },
  {
   "cell_type": "code",
   "execution_count": null,
   "id": "eb3d422e-15ce-41e5-98e5-51dc4a0d598d",
   "metadata": {},
   "outputs": [],
   "source": [
    "# Creating list to append tweet data to\n",
    "attributes_container = []\n",
    "\n",
    "# Using TwitterSearchScraper to scrape data and append tweets to list\n",
    "for i,tweet in enumerate(sntwitter.TwitterSearchScraper('#wednesdaynetflix since:2022-11-23 until:2022-12-15').get_items()):\n",
    "    if i>100000:\n",
    "        break\n",
    "    attributes_container.append([tweet.user.verified,tweet.user.followersCount,tweet.user.location, tweet.date, tweet.likeCount,tweet.retweetCount, tweet.sourceLabel, tweet.lang, tweet.content])\n",
    "    \n",
    "# Creating a dataframe to load the list\n",
    "tweets_df = pd.DataFrame(attributes_container, columns=[\"User Verified\",\"Followers\",\"Location\", \"Date Created\", \"Likes\", \"Retweets\", \"Source\",\"Language\", \"Tweet\"])\n"
   ]
  },
  {
   "cell_type": "code",
   "execution_count": 51,
   "id": "ea24fc36-7c2d-47a3-bdde-340f6466c3e3",
   "metadata": {},
   "outputs": [],
   "source": [
    "tweets_df.to_csv(\"Wednesday-12-15.csv\")"
   ]
  },
  {
   "cell_type": "code",
   "execution_count": 3,
   "id": "e4778b9e-768e-4932-8815-af0a30c3d264",
   "metadata": {},
   "outputs": [
    {
     "data": {
      "text/html": [
       "<div>\n",
       "<style scoped>\n",
       "    .dataframe tbody tr th:only-of-type {\n",
       "        vertical-align: middle;\n",
       "    }\n",
       "\n",
       "    .dataframe tbody tr th {\n",
       "        vertical-align: top;\n",
       "    }\n",
       "\n",
       "    .dataframe thead th {\n",
       "        text-align: right;\n",
       "    }\n",
       "</style>\n",
       "<table border=\"1\" class=\"dataframe\">\n",
       "  <thead>\n",
       "    <tr style=\"text-align: right;\">\n",
       "      <th></th>\n",
       "      <th>ID</th>\n",
       "      <th>User Verified</th>\n",
       "      <th>Followers</th>\n",
       "      <th>Location</th>\n",
       "      <th>Date Created</th>\n",
       "      <th>Likes</th>\n",
       "      <th>Retweets</th>\n",
       "      <th>Source</th>\n",
       "      <th>Language</th>\n",
       "      <th>Tweet</th>\n",
       "    </tr>\n",
       "  </thead>\n",
       "  <tbody>\n",
       "    <tr>\n",
       "      <th>91689</th>\n",
       "      <td>91689</td>\n",
       "      <td>False</td>\n",
       "      <td>2525.0</td>\n",
       "      <td>Portland, OR, USA, NoAm, Terra</td>\n",
       "      <td>2022-11-24 05:32:10+00:00</td>\n",
       "      <td>2.0</td>\n",
       "      <td>0.0</td>\n",
       "      <td>Twitter Web App</td>\n",
       "      <td>qme</td>\n",
       "      <td>@CocoDaBear #WednesdayNetflix https://t.co/mEg...</td>\n",
       "    </tr>\n",
       "    <tr>\n",
       "      <th>61865</th>\n",
       "      <td>61865</td>\n",
       "      <td>False</td>\n",
       "      <td>64.0</td>\n",
       "      <td>idk u tell me</td>\n",
       "      <td>2022-11-27 17:32:20+00:00</td>\n",
       "      <td>0.0</td>\n",
       "      <td>0.0</td>\n",
       "      <td>Twitter for iPhone</td>\n",
       "      <td>en</td>\n",
       "      <td>I FINISHED SZN 1 OF WEDNESDAY I LOVED IT. JENN...</td>\n",
       "    </tr>\n",
       "    <tr>\n",
       "      <th>78240</th>\n",
       "      <td>78240</td>\n",
       "      <td>False</td>\n",
       "      <td>2201.0</td>\n",
       "      <td>Hail, Kingdom of Saudi Arabia</td>\n",
       "      <td>2022-11-25 19:39:11+00:00</td>\n",
       "      <td>2.0</td>\n",
       "      <td>1.0</td>\n",
       "      <td>Twitter for iPhone</td>\n",
       "      <td>ar</td>\n",
       "      <td>بقضي بقية الليلة على #wednesdaynetflix 🍿🍺 http...</td>\n",
       "    </tr>\n",
       "    <tr>\n",
       "      <th>77704</th>\n",
       "      <td>77704</td>\n",
       "      <td>False</td>\n",
       "      <td>26549.0</td>\n",
       "      <td>NaN</td>\n",
       "      <td>2022-11-25 20:48:21+00:00</td>\n",
       "      <td>1.0</td>\n",
       "      <td>0.0</td>\n",
       "      <td>Twitter for iPhone</td>\n",
       "      <td>en</td>\n",
       "      <td>Get into #wednesdaynetflix y’all</td>\n",
       "    </tr>\n",
       "    <tr>\n",
       "      <th>49372</th>\n",
       "      <td>49372</td>\n",
       "      <td>False</td>\n",
       "      <td>294.0</td>\n",
       "      <td>NaN</td>\n",
       "      <td>2022-11-29 08:15:31+00:00</td>\n",
       "      <td>0.0</td>\n",
       "      <td>0.0</td>\n",
       "      <td>Twitter for iPhone</td>\n",
       "      <td>en</td>\n",
       "      <td>i’m so confused. if they’ve a school full of m...</td>\n",
       "    </tr>\n",
       "    <tr>\n",
       "      <th>7619</th>\n",
       "      <td>7619</td>\n",
       "      <td>False</td>\n",
       "      <td>129.0</td>\n",
       "      <td>At home</td>\n",
       "      <td>2022-12-10 13:05:33+00:00</td>\n",
       "      <td>0.0</td>\n",
       "      <td>0.0</td>\n",
       "      <td>Twitter Web App</td>\n",
       "      <td>de</td>\n",
       "      <td>Hab erst 3 Folgen von Wednesday gesehen, aber ...</td>\n",
       "    </tr>\n",
       "    <tr>\n",
       "      <th>16290</th>\n",
       "      <td>16290</td>\n",
       "      <td>False</td>\n",
       "      <td>304.0</td>\n",
       "      <td>Entre Jaén y Málaga</td>\n",
       "      <td>2022-12-06 19:38:58+00:00</td>\n",
       "      <td>0.0</td>\n",
       "      <td>0.0</td>\n",
       "      <td>Twitter for iPhone</td>\n",
       "      <td>es</td>\n",
       "      <td>Me he tirado todos los capítulos de #Wednesday...</td>\n",
       "    </tr>\n",
       "    <tr>\n",
       "      <th>73962</th>\n",
       "      <td>73962</td>\n",
       "      <td>False</td>\n",
       "      <td>154.0</td>\n",
       "      <td>Cebu,Philippines</td>\n",
       "      <td>2022-11-26 07:40:37+00:00</td>\n",
       "      <td>0.0</td>\n",
       "      <td>0.0</td>\n",
       "      <td>Twitter for iPad</td>\n",
       "      <td>en</td>\n",
       "      <td>can christina ricci still do her wednesday imp...</td>\n",
       "    </tr>\n",
       "    <tr>\n",
       "      <th>12206</th>\n",
       "      <td>12206</td>\n",
       "      <td>False</td>\n",
       "      <td>3.0</td>\n",
       "      <td>โยชิเดน🐙🪚</td>\n",
       "      <td>2022-12-08 09:48:17+00:00</td>\n",
       "      <td>1.0</td>\n",
       "      <td>0.0</td>\n",
       "      <td>Twitter for Android</td>\n",
       "      <td>th</td>\n",
       "      <td>วันพุธแต่ลงวันพฤหัส #wednesdaynetflix https://...</td>\n",
       "    </tr>\n",
       "    <tr>\n",
       "      <th>93568</th>\n",
       "      <td>93568</td>\n",
       "      <td>False</td>\n",
       "      <td>21.0</td>\n",
       "      <td>Southern Californication</td>\n",
       "      <td>2022-11-24 02:42:21+00:00</td>\n",
       "      <td>0.0</td>\n",
       "      <td>0.0</td>\n",
       "      <td>Twitter Web App</td>\n",
       "      <td>en</td>\n",
       "      <td>@jennaortega is absolutely killing it as #wedn...</td>\n",
       "    </tr>\n",
       "  </tbody>\n",
       "</table>\n",
       "</div>"
      ],
      "text/plain": [
       "          ID User Verified  Followers                        Location  \\\n",
       "91689  91689         False     2525.0  Portland, OR, USA, NoAm, Terra   \n",
       "61865  61865         False       64.0                   idk u tell me   \n",
       "78240  78240         False     2201.0   Hail, Kingdom of Saudi Arabia   \n",
       "77704  77704         False    26549.0                             NaN   \n",
       "49372  49372         False      294.0                             NaN   \n",
       "7619    7619         False      129.0                         At home   \n",
       "16290  16290         False      304.0             Entre Jaén y Málaga   \n",
       "73962  73962         False      154.0                Cebu,Philippines   \n",
       "12206  12206         False        3.0                       โยชิเดน🐙🪚   \n",
       "93568  93568         False       21.0        Southern Californication   \n",
       "\n",
       "                    Date Created  Likes  Retweets               Source  \\\n",
       "91689  2022-11-24 05:32:10+00:00    2.0       0.0      Twitter Web App   \n",
       "61865  2022-11-27 17:32:20+00:00    0.0       0.0   Twitter for iPhone   \n",
       "78240  2022-11-25 19:39:11+00:00    2.0       1.0   Twitter for iPhone   \n",
       "77704  2022-11-25 20:48:21+00:00    1.0       0.0   Twitter for iPhone   \n",
       "49372  2022-11-29 08:15:31+00:00    0.0       0.0   Twitter for iPhone   \n",
       "7619   2022-12-10 13:05:33+00:00    0.0       0.0      Twitter Web App   \n",
       "16290  2022-12-06 19:38:58+00:00    0.0       0.0   Twitter for iPhone   \n",
       "73962  2022-11-26 07:40:37+00:00    0.0       0.0     Twitter for iPad   \n",
       "12206  2022-12-08 09:48:17+00:00    1.0       0.0  Twitter for Android   \n",
       "93568  2022-11-24 02:42:21+00:00    0.0       0.0      Twitter Web App   \n",
       "\n",
       "      Language                                              Tweet  \n",
       "91689      qme  @CocoDaBear #WednesdayNetflix https://t.co/mEg...  \n",
       "61865       en  I FINISHED SZN 1 OF WEDNESDAY I LOVED IT. JENN...  \n",
       "78240       ar  بقضي بقية الليلة على #wednesdaynetflix 🍿🍺 http...  \n",
       "77704       en                   Get into #wednesdaynetflix y’all  \n",
       "49372       en  i’m so confused. if they’ve a school full of m...  \n",
       "7619        de  Hab erst 3 Folgen von Wednesday gesehen, aber ...  \n",
       "16290       es  Me he tirado todos los capítulos de #Wednesday...  \n",
       "73962       en  can christina ricci still do her wednesday imp...  \n",
       "12206       th  วันพุธแต่ลงวันพฤหัส #wednesdaynetflix https://...  \n",
       "93568       en  @jennaortega is absolutely killing it as #wedn...  "
      ]
     },
     "execution_count": 3,
     "metadata": {},
     "output_type": "execute_result"
    }
   ],
   "source": [
    "tweets = pd.read_csv('Wednesday-12-15.csv',low_memory=False)\n",
    "tweets = tweets.rename(columns={'Unnamed: 0': 'ID'})\n",
    "tweets.sample(10)"
   ]
  },
  {
   "cell_type": "code",
   "execution_count": 226,
   "id": "ed21b073-bd43-48bf-9e76-544dadb96e00",
   "metadata": {},
   "outputs": [
    {
     "name": "stdout",
     "output_type": "stream",
     "text": [
      "<class 'pandas.core.frame.DataFrame'>\n",
      "RangeIndex: 100002 entries, 0 to 100001\n",
      "Data columns (total 10 columns):\n",
      " #   Column         Non-Null Count   Dtype  \n",
      "---  ------         --------------   -----  \n",
      " 0   ID             100002 non-null  int64  \n",
      " 1   User Verified  100001 non-null  object \n",
      " 2   Followers      100001 non-null  float64\n",
      " 3   Location       68118 non-null   object \n",
      " 4   Date Created   100001 non-null  object \n",
      " 5   Likes          100001 non-null  float64\n",
      " 6   Retweets       100001 non-null  float64\n",
      " 7   Source         100001 non-null  object \n",
      " 8   Language       100001 non-null  object \n",
      " 9   Tweet          100002 non-null  string \n",
      "dtypes: float64(3), int64(1), object(5), string(1)\n",
      "memory usage: 7.6+ MB\n"
     ]
    }
   ],
   "source": [
    "tweets.info()"
   ]
  },
  {
   "cell_type": "code",
   "execution_count": 155,
   "id": "e780a681-2e57-45ff-ad63-6cb7d7d794dd",
   "metadata": {},
   "outputs": [
    {
     "data": {
      "text/html": [
       "<div>\n",
       "<style scoped>\n",
       "    .dataframe tbody tr th:only-of-type {\n",
       "        vertical-align: middle;\n",
       "    }\n",
       "\n",
       "    .dataframe tbody tr th {\n",
       "        vertical-align: top;\n",
       "    }\n",
       "\n",
       "    .dataframe thead th {\n",
       "        text-align: right;\n",
       "    }\n",
       "</style>\n",
       "<table border=\"1\" class=\"dataframe\">\n",
       "  <thead>\n",
       "    <tr style=\"text-align: right;\">\n",
       "      <th></th>\n",
       "      <th>ID</th>\n",
       "      <th>Followers</th>\n",
       "      <th>Likes</th>\n",
       "      <th>Retweets</th>\n",
       "    </tr>\n",
       "  </thead>\n",
       "  <tbody>\n",
       "    <tr>\n",
       "      <th>count</th>\n",
       "      <td>100002.000000</td>\n",
       "      <td>1.000010e+05</td>\n",
       "      <td>100001.000000</td>\n",
       "      <td>100001.000000</td>\n",
       "    </tr>\n",
       "    <tr>\n",
       "      <th>mean</th>\n",
       "      <td>50000.500000</td>\n",
       "      <td>7.261134e+03</td>\n",
       "      <td>45.809682</td>\n",
       "      <td>7.163318</td>\n",
       "    </tr>\n",
       "    <tr>\n",
       "      <th>std</th>\n",
       "      <td>28868.235147</td>\n",
       "      <td>1.676939e+05</td>\n",
       "      <td>979.590306</td>\n",
       "      <td>148.416983</td>\n",
       "    </tr>\n",
       "    <tr>\n",
       "      <th>min</th>\n",
       "      <td>0.000000</td>\n",
       "      <td>0.000000e+00</td>\n",
       "      <td>0.000000</td>\n",
       "      <td>0.000000</td>\n",
       "    </tr>\n",
       "    <tr>\n",
       "      <th>25%</th>\n",
       "      <td>25000.250000</td>\n",
       "      <td>9.100000e+01</td>\n",
       "      <td>0.000000</td>\n",
       "      <td>0.000000</td>\n",
       "    </tr>\n",
       "    <tr>\n",
       "      <th>50%</th>\n",
       "      <td>50000.500000</td>\n",
       "      <td>3.480000e+02</td>\n",
       "      <td>1.000000</td>\n",
       "      <td>0.000000</td>\n",
       "    </tr>\n",
       "    <tr>\n",
       "      <th>75%</th>\n",
       "      <td>75000.750000</td>\n",
       "      <td>1.072000e+03</td>\n",
       "      <td>3.000000</td>\n",
       "      <td>0.000000</td>\n",
       "    </tr>\n",
       "    <tr>\n",
       "      <th>max</th>\n",
       "      <td>100001.000000</td>\n",
       "      <td>1.683665e+07</td>\n",
       "      <td>186465.000000</td>\n",
       "      <td>26569.000000</td>\n",
       "    </tr>\n",
       "  </tbody>\n",
       "</table>\n",
       "</div>"
      ],
      "text/plain": [
       "                  ID     Followers          Likes       Retweets\n",
       "count  100002.000000  1.000010e+05  100001.000000  100001.000000\n",
       "mean    50000.500000  7.261134e+03      45.809682       7.163318\n",
       "std     28868.235147  1.676939e+05     979.590306     148.416983\n",
       "min         0.000000  0.000000e+00       0.000000       0.000000\n",
       "25%     25000.250000  9.100000e+01       0.000000       0.000000\n",
       "50%     50000.500000  3.480000e+02       1.000000       0.000000\n",
       "75%     75000.750000  1.072000e+03       3.000000       0.000000\n",
       "max    100001.000000  1.683665e+07  186465.000000   26569.000000"
      ]
     },
     "execution_count": 155,
     "metadata": {},
     "output_type": "execute_result"
    }
   ],
   "source": [
    "#statistical description of the dataset\n",
    "tweets.describe()"
   ]
  },
  {
   "cell_type": "code",
   "execution_count": 229,
   "id": "4e59cd09-0b84-4b0e-980a-d3939142f196",
   "metadata": {},
   "outputs": [
    {
     "data": {
      "text/plain": [
       "ID           5.000150e+09\n",
       "Followers    7.261207e+08\n",
       "Likes        4.581014e+06\n",
       "Retweets     7.163390e+05\n",
       "dtype: float64"
      ]
     },
     "execution_count": 229,
     "metadata": {},
     "output_type": "execute_result"
    }
   ],
   "source": [
    "#sum all numeric columns in dataset\n",
    "all_sum_table=tweets.sum(numeric_only=True)\n",
    "all_sum_table.to_csv(\"all_sum_table.csv\")\n",
    "all_sum_table"
   ]
  },
  {
   "cell_type": "code",
   "execution_count": 243,
   "id": "ee0ac4b2-3d30-4f06-ace1-3f8d4b30f174",
   "metadata": {},
   "outputs": [],
   "source": [
    "#substituting the short form language names for the long names\n",
    "lang_code = pd.read_csv('language_codes.csv')\n",
    "dict_lang_code = dict(zip(lang_code['Code'], lang_code['Language']))\n",
    "tweets['Language'] = tweets['Language'].replace(dict_lang_code)"
   ]
  },
  {
   "cell_type": "code",
   "execution_count": 244,
   "id": "6547d1f0-4000-4a1c-b6fc-550a5208f99d",
   "metadata": {},
   "outputs": [
    {
     "data": {
      "text/plain": [
       "English       63489\n",
       "Spanish        7517\n",
       "Portuguese     5517\n",
       "Turkish        3943\n",
       "Italian        3085\n",
       "Name: Language, dtype: int64"
      ]
     },
     "execution_count": 244,
     "metadata": {},
     "output_type": "execute_result"
    }
   ],
   "source": [
    "each_lang_count=tweets.Language.value_counts()[:5]\n",
    "each_lang_count.to_csv(\"each_lang_count.csv\")\n",
    "each_lang_count"
   ]
  },
  {
   "cell_type": "code",
   "execution_count": 235,
   "id": "ef83858d-721a-49bb-8b37-cb59c6dd153e",
   "metadata": {},
   "outputs": [
    {
     "data": {
      "text/html": [
       "<div>\n",
       "<style scoped>\n",
       "    .dataframe tbody tr th:only-of-type {\n",
       "        vertical-align: middle;\n",
       "    }\n",
       "\n",
       "    .dataframe tbody tr th {\n",
       "        vertical-align: top;\n",
       "    }\n",
       "\n",
       "    .dataframe thead th {\n",
       "        text-align: right;\n",
       "    }\n",
       "</style>\n",
       "<table border=\"1\" class=\"dataframe\">\n",
       "  <thead>\n",
       "    <tr style=\"text-align: right;\">\n",
       "      <th></th>\n",
       "      <th>Total Languages</th>\n",
       "    </tr>\n",
       "  </thead>\n",
       "  <tbody>\n",
       "    <tr>\n",
       "      <th>0</th>\n",
       "      <td>55</td>\n",
       "    </tr>\n",
       "  </tbody>\n",
       "</table>\n",
       "</div>"
      ],
      "text/plain": [
       "   Total Languages\n",
       "0               55"
      ]
     },
     "execution_count": 235,
     "metadata": {},
     "output_type": "execute_result"
    }
   ],
   "source": [
    "# Create a list of dictionaries with the data\n",
    "langtotal = []\n",
    "\n",
    "# Calculate the sum using the tweets dataframe\n",
    "langnum = tweets['Language'].nunique()\n",
    "\n",
    "# Add a dictionary to the data list with the name and sum\n",
    "langtotal.append({'Total Languages': langnum})\n",
    "\n",
    "# Create a Pandas dataframe from the list of dictionaries\n",
    "langtotal_df = pd.DataFrame(langtotal)\n",
    "\n",
    "#save as csv\n",
    "langtotal_df.to_csv(\"langtotal.csv\")\n",
    "langtotal_df"
   ]
  },
  {
   "cell_type": "code",
   "execution_count": 240,
   "id": "df65b221-1d7a-4050-a7c4-a385b26feee7",
   "metadata": {},
   "outputs": [
    {
     "data": {
      "text/plain": [
       "Twitter for iPhone     48482\n",
       "Twitter for Android    34975\n",
       "Twitter Web App        13176\n",
       "Twitter for iPad        2118\n",
       "Name: Source, dtype: int64"
      ]
     },
     "execution_count": 240,
     "metadata": {},
     "output_type": "execute_result"
    }
   ],
   "source": [
    "tweet_source=tweets.Source.value_counts() [:4]\n",
    "tweet_source.to_csv(\"tweet_source.csv\")\n",
    "tweet_source"
   ]
  },
  {
   "cell_type": "code",
   "execution_count": 251,
   "id": "03e571e2-b335-4ace-ba2f-9701fb09cd32",
   "metadata": {},
   "outputs": [
    {
     "data": {
      "text/plain": [
       "False    98850\n",
       "True      1151\n",
       "Name: User Verified, dtype: int64"
      ]
     },
     "execution_count": 251,
     "metadata": {},
     "output_type": "execute_result"
    }
   ],
   "source": [
    "account_verification=tweets['User Verified'].value_counts()\n",
    "account_verification.to_csv(\"account_verification.csv\")\n",
    "account_verification"
   ]
  },
  {
   "cell_type": "code",
   "execution_count": null,
   "id": "778be6dc-d07a-4124-b34c-67400d9a4a69",
   "metadata": {},
   "outputs": [],
   "source": [
    "# tweets_loc = tweets.query(\"Location != 'Spark'\")\n",
    "# tweets_loc = tweets.loc[tweets[\"Location\"] == \"she/her\" ]"
   ]
  },
  {
   "cell_type": "code",
   "execution_count": null,
   "id": "6b7245d1-7aeb-4f50-afb3-f70d33733711",
   "metadata": {},
   "outputs": [],
   "source": [
    "tweets.sample(10)"
   ]
  },
  {
   "cell_type": "code",
   "execution_count": 118,
   "id": "313541e5-6409-48c0-895f-824e613ecd6a",
   "metadata": {},
   "outputs": [],
   "source": [
    "#This function substitutes the current location for the country name\n",
    "def get_country(inc_c, case, cor_c):\n",
    "    tweets.loc[tweets['c_Location'].str.contains(inc_c, case=case, na=False), 'c_Location'] = cor_c\n",
    "\n"
   ]
  },
  {
   "cell_type": "code",
   "execution_count": 253,
   "id": "5c23d59f-1707-467b-9a71-cd5e7ce9e026",
   "metadata": {},
   "outputs": [],
   "source": [
    "#duplicate the location column to another column \n",
    "tweets['c_Location'] = tweets['Location']\n",
    "    \n",
    "#substitute state names in the US\n",
    "list_us = ['USA', 'KS', 'FL', 'CA', 'GA', 'AZ', 'CO','IL', 'TX', 'PA', 'DC', 'TN', 'NY', 'WA', 'NYC', 'NC', 'NV', 'OH', 'LA', 'MA', 'Los Angeles' 'new york','New York', 'Los Angeles']\n",
    "for states in list_us:\n",
    "    get_country(states, True, 'United States')\n",
    "\n",
    "#substitute incorrect spelling for correct spelling\n",
    "dicts = {'İstanbul, Türkiye':'Turkey', 'São Paulo, Brasil':'Brazil','brazil':'Brazil', 'brasil':'Brazil','London, England':'United Kingdom','England, United Kingdom':'United Kingdom', 'Lagos, Nigeria':'Nigeria'}\n",
    "for key, val in dicts.items():\n",
    "    get_country(key, False, val)\n",
    "    \n",
    "#minor formatting\n",
    "tweets['c_Location'].replace(['None', 'she/her'], np.nan, inplace=True)"
   ]
  },
  {
   "cell_type": "code",
   "execution_count": 254,
   "id": "34c0b252-d970-44fb-91bb-78594c5f8ae9",
   "metadata": {},
   "outputs": [
    {
     "data": {
      "text/plain": [
       "United States     11016\n",
       "Brazil             2017\n",
       "United Kingdom      885\n",
       "Turkey              524\n",
       "Nigeria             299\n",
       "Italia              242\n",
       "Canada              241\n",
       "México              229\n",
       "France              229\n",
       "London              209\n",
       "Name: c_Location, dtype: int64"
      ]
     },
     "execution_count": 254,
     "metadata": {},
     "output_type": "execute_result"
    }
   ],
   "source": [
    "top_countries=tweets.c_Location.value_counts()[:10]\n",
    "top_countries.to_csv(\"top_countries.csv\")\n",
    "top_countries"
   ]
  },
  {
   "cell_type": "code",
   "execution_count": 249,
   "id": "3957d23b-afec-40b8-8c6b-3c926935eb46",
   "metadata": {},
   "outputs": [],
   "source": [
    "#create a list of cast names\n",
    "cast = ['Wednesday', 'Marilyn', 'Morticia', 'Larissa', 'Enid', \n",
    "        'Pugsley', 'Lurch', 'Tyler', 'Ajax', 'Xavier', 'Bianca', 'Kinbott', 'Donovan']\n",
    "\n",
    "# Create a list of dictionaries with the data\n",
    "data = []\n",
    "\n",
    "# Iterate through the names in the cast list\n",
    "for name in cast:\n",
    "\n",
    "    # Calculate the sum using the tweets dataframe\n",
    "    sum = tweets['Tweet'].str.count(name).sum()\n",
    "\n",
    "    # Add a dictionary to the data list with the name and sum\n",
    "    data.append({'Character Name': name, 'Mentions': sum})\n",
    "\n",
    "# Create a Pandas dataframe from the list of dictionaries\n",
    "df = pd.DataFrame(data)"
   ]
  },
  {
   "cell_type": "code",
   "execution_count": 250,
   "id": "68c4c583-2e79-4d8d-b869-9a47fc802600",
   "metadata": {},
   "outputs": [
    {
     "data": {
      "text/html": [
       "<div>\n",
       "<style scoped>\n",
       "    .dataframe tbody tr th:only-of-type {\n",
       "        vertical-align: middle;\n",
       "    }\n",
       "\n",
       "    .dataframe tbody tr th {\n",
       "        vertical-align: top;\n",
       "    }\n",
       "\n",
       "    .dataframe thead th {\n",
       "        text-align: right;\n",
       "    }\n",
       "</style>\n",
       "<table border=\"1\" class=\"dataframe\">\n",
       "  <thead>\n",
       "    <tr style=\"text-align: right;\">\n",
       "      <th></th>\n",
       "      <th>Character Name</th>\n",
       "      <th>Mentions</th>\n",
       "    </tr>\n",
       "  </thead>\n",
       "  <tbody>\n",
       "    <tr>\n",
       "      <th>0</th>\n",
       "      <td>Wednesday</td>\n",
       "      <td>33190.0</td>\n",
       "    </tr>\n",
       "    <tr>\n",
       "      <th>4</th>\n",
       "      <td>Enid</td>\n",
       "      <td>2959.0</td>\n",
       "    </tr>\n",
       "    <tr>\n",
       "      <th>7</th>\n",
       "      <td>Tyler</td>\n",
       "      <td>2544.0</td>\n",
       "    </tr>\n",
       "  </tbody>\n",
       "</table>\n",
       "</div>"
      ],
      "text/plain": [
       "  Character Name  Mentions\n",
       "0      Wednesday   33190.0\n",
       "4           Enid    2959.0\n",
       "7          Tyler    2544.0"
      ]
     },
     "execution_count": 250,
     "metadata": {},
     "output_type": "execute_result"
    }
   ],
   "source": [
    "# Reorder the sum column in descending order\n",
    "top_char = df.sort_values(by='Mentions', ascending=False)[:3]\n",
    "top_char.to_csv(\"top_char.csv\")\n",
    "top_char\n"
   ]
  },
  {
   "cell_type": "code",
   "execution_count": 262,
   "id": "aab360b7-984c-4a62-93fc-7e2bf8fbb17d",
   "metadata": {},
   "outputs": [
    {
     "data": {
      "text/html": [
       "<div>\n",
       "<style scoped>\n",
       "    .dataframe tbody tr th:only-of-type {\n",
       "        vertical-align: middle;\n",
       "    }\n",
       "\n",
       "    .dataframe tbody tr th {\n",
       "        vertical-align: top;\n",
       "    }\n",
       "\n",
       "    .dataframe thead th {\n",
       "        text-align: right;\n",
       "    }\n",
       "</style>\n",
       "<table border=\"1\" class=\"dataframe\">\n",
       "  <thead>\n",
       "    <tr style=\"text-align: right;\">\n",
       "      <th></th>\n",
       "      <th>ID</th>\n",
       "      <th>Date Created</th>\n",
       "    </tr>\n",
       "  </thead>\n",
       "  <tbody>\n",
       "    <tr>\n",
       "      <th>0</th>\n",
       "      <td>0</td>\n",
       "      <td>2022-12-14 23:59:51+00:00</td>\n",
       "    </tr>\n",
       "    <tr>\n",
       "      <th>1</th>\n",
       "      <td>1</td>\n",
       "      <td>2022-12-14 23:59:33+00:00</td>\n",
       "    </tr>\n",
       "    <tr>\n",
       "      <th>2</th>\n",
       "      <td>2</td>\n",
       "      <td>2022-12-14 23:59:29+00:00</td>\n",
       "    </tr>\n",
       "    <tr>\n",
       "      <th>3</th>\n",
       "      <td>3</td>\n",
       "      <td>2022-12-14 23:58:56+00:00</td>\n",
       "    </tr>\n",
       "    <tr>\n",
       "      <th>4</th>\n",
       "      <td>4</td>\n",
       "      <td>2022-12-14 23:58:17+00:00</td>\n",
       "    </tr>\n",
       "    <tr>\n",
       "      <th>...</th>\n",
       "      <td>...</td>\n",
       "      <td>...</td>\n",
       "    </tr>\n",
       "    <tr>\n",
       "      <th>99997</th>\n",
       "      <td>99997</td>\n",
       "      <td>2022-11-23 16:49:19+00:00</td>\n",
       "    </tr>\n",
       "    <tr>\n",
       "      <th>99998</th>\n",
       "      <td>99998</td>\n",
       "      <td>2022-11-23 16:49:18+00:00</td>\n",
       "    </tr>\n",
       "    <tr>\n",
       "      <th>99999</th>\n",
       "      <td>99999</td>\n",
       "      <td>2022-11-23 16:49:14+00:00</td>\n",
       "    </tr>\n",
       "    <tr>\n",
       "      <th>100000</th>\n",
       "      <td>100000</td>\n",
       "      <td>2022-11-23 16:49:13+00:00</td>\n",
       "    </tr>\n",
       "    <tr>\n",
       "      <th>100001</th>\n",
       "      <td>100001</td>\n",
       "      <td>2022-11-23 16:49:13+00:00</td>\n",
       "    </tr>\n",
       "  </tbody>\n",
       "</table>\n",
       "<p>100002 rows × 2 columns</p>\n",
       "</div>"
      ],
      "text/plain": [
       "            ID               Date Created\n",
       "0            0  2022-12-14 23:59:51+00:00\n",
       "1            1  2022-12-14 23:59:33+00:00\n",
       "2            2  2022-12-14 23:59:29+00:00\n",
       "3            3  2022-12-14 23:58:56+00:00\n",
       "4            4  2022-12-14 23:58:17+00:00\n",
       "...        ...                        ...\n",
       "99997    99997  2022-11-23 16:49:19+00:00\n",
       "99998    99998  2022-11-23 16:49:18+00:00\n",
       "99999    99999  2022-11-23 16:49:14+00:00\n",
       "100000  100000  2022-11-23 16:49:13+00:00\n",
       "100001  100001  2022-11-23 16:49:13+00:00\n",
       "\n",
       "[100002 rows x 2 columns]"
      ]
     },
     "execution_count": 262,
     "metadata": {},
     "output_type": "execute_result"
    }
   ],
   "source": [
    "tweets_time = tweets.iloc[:, [0,4]]\n",
    "tweets_time.to_csv(\"tweets_time.csv\")\n",
    "tweets_time"
   ]
  },
  {
   "cell_type": "code",
   "execution_count": 5,
   "id": "95fd8efc-1b7e-4e57-86c7-838ff16b9105",
   "metadata": {},
   "outputs": [],
   "source": [
    "#replace the '\\n' characters with space\n",
    "tweets['Tweet'] = tweets['Tweet'].replace('\\n', ' ', regex=True)"
   ]
  },
  {
   "cell_type": "code",
   "execution_count": 16,
   "id": "90616a82-b3e5-4761-882a-eb23f54a6146",
   "metadata": {},
   "outputs": [],
   "source": [
    "#change Tweet object column to string data type\n",
    "tweets['Tweet'] = tweets['Tweet'].astype(\"string\")\n",
    "#get the sentiment scores using Sentiment Intensity Analyzer\n",
    "sia = SentimentIntensityAnalyzer()\n",
    "tweets['sentiment_scores'] = tweets['Tweet'].apply(sia.polarity_scores)\n",
    "tweets['sentiment_scores'] = tweets['sentiment_scores'].apply(lambda x: x['compound'])"
   ]
  },
  {
   "cell_type": "code",
   "execution_count": 17,
   "id": "2d1bc83a-e810-4446-9890-ba81b550cbbb",
   "metadata": {},
   "outputs": [],
   "source": [
    "#This functions returns Positive, Negative or Neutral depending on the state of the sentiment score\n",
    "def get_sentiment(tweet):\n",
    "    if tweet > 0:\n",
    "        return \"Positive\"\n",
    "    elif tweet == 0:\n",
    "        return \"Neutral\"\n",
    "    else: return \"Negative\""
   ]
  },
  {
   "cell_type": "code",
   "execution_count": 18,
   "id": "27912df5-fb01-4cf9-84bd-18a1f1c13167",
   "metadata": {},
   "outputs": [],
   "source": [
    "#applying the get_sentiment function\n",
    "tweets['sentiment'] = tweets['sentiment_scores'].apply(get_sentiment)"
   ]
  },
  {
   "cell_type": "code",
   "execution_count": 20,
   "id": "ed1e04c8-3cf7-4b89-b858-2f220006c3cb",
   "metadata": {},
   "outputs": [
    {
     "data": {
      "text/plain": [
       "Neutral     51928\n",
       "Positive    34449\n",
       "Negative    13625\n",
       "Name: sentiment, dtype: int64"
      ]
     },
     "execution_count": 20,
     "metadata": {},
     "output_type": "execute_result"
    }
   ],
   "source": [
    "#checking for changes\n",
    "tweet_sentiment=tweets['sentiment'].value_counts()\n",
    "tweet_sentiment.to_csv(\"tweet_sentiment.csv\")\n",
    "tweet_sentiment"
   ]
  },
  {
   "cell_type": "code",
   "execution_count": null,
   "id": "13eac2b8-b5f2-4a36-8025-95d1a4ed5ffb",
   "metadata": {},
   "outputs": [],
   "source": []
  }
 ],
 "metadata": {
  "kernelspec": {
   "display_name": "Python 3 (ipykernel)",
   "language": "python",
   "name": "python3"
  },
  "language_info": {
   "codemirror_mode": {
    "name": "ipython",
    "version": 3
   },
   "file_extension": ".py",
   "mimetype": "text/x-python",
   "name": "python",
   "nbconvert_exporter": "python",
   "pygments_lexer": "ipython3",
   "version": "3.8.15"
  }
 },
 "nbformat": 4,
 "nbformat_minor": 5
}
